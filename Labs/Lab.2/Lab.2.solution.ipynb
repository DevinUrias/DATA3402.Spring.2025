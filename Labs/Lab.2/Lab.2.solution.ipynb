{
 "cells": [
  {
   "cell_type": "markdown",
   "metadata": {},
   "source": [
    "## Lab 2- Tic Tac Toe\n",
    "\n",
    "In this lab your will build a n x n Tic Tac Toe game. As you do the exercises, make sure your solutions work for any size Tic Tac Toe game. "
   ]
  },
  {
   "cell_type": "markdown",
   "metadata": {},
   "source": [
    "*Exercise 1:* Write a function that creates an n by n matrix (of list of lists) which will represent the state of a Tie Tac Toe game. Let 0, 1, and 2 represent empty, \"X\", and \"O\", respectively.\n"
   ]
  },
  {
   "cell_type": "code",
   "execution_count": 145,
   "metadata": {},
   "outputs": [],
   "source": [
    "def create_board(n):\n",
    "    board = []\n",
    "    for i in range(n):\n",
    "        board.append([0] * n)\n",
    "    return board"
   ]
  },
  {
   "cell_type": "code",
   "execution_count": 146,
   "metadata": {},
   "outputs": [
    {
     "data": {
      "text/plain": [
       "[[0, 0, 0], [0, 0, 0], [0, 0, 0]]"
      ]
     },
     "execution_count": 146,
     "metadata": {},
     "output_type": "execute_result"
    }
   ],
   "source": [
    "create_board(3)"
   ]
  },
  {
   "cell_type": "markdown",
   "metadata": {},
   "source": [
    "*Exercise 2:* Write a function that takes 2 integers `n` and `m` as input and draws a `n` by `m` game board. For example the following is a 3x3 board:\n",
    "```\n",
    "   --- --- --- \n",
    "  |   |   |   | \n",
    "   --- --- ---  \n",
    "  |   |   |   | \n",
    "   --- --- ---  \n",
    "  |   |   |   | \n",
    "   --- --- --- \n",
    "   ```"
   ]
  },
  {
   "cell_type": "code",
   "execution_count": 135,
   "metadata": {},
   "outputs": [],
   "source": [
    "def display_board(n,m):\n",
    "    \n",
    "    for i in range(n):\n",
    "        print(\" ---\" * m,\"\\n|\", end=\"\")\n",
    "        print(\"   |\" * (m))\n",
    "    print(\" ---\"*m)"
   ]
  },
  {
   "cell_type": "code",
   "execution_count": 138,
   "metadata": {},
   "outputs": [
    {
     "name": "stdout",
     "output_type": "stream",
     "text": [
      " --- --- --- --- --- --- \n",
      "|   |   |   |   |   |   |\n",
      " --- --- --- --- --- --- \n",
      "|   |   |   |   |   |   |\n",
      " --- --- --- --- --- --- \n",
      "|   |   |   |   |   |   |\n",
      " --- --- --- --- --- --- \n",
      "|   |   |   |   |   |   |\n",
      " --- --- --- --- --- ---\n"
     ]
    }
   ],
   "source": [
    "display_board(4,6)"
   ]
  },
  {
   "cell_type": "markdown",
   "metadata": {
    "collapsed": true
   },
   "source": [
    "# Test your solution here"
   ]
  },
  {
   "cell_type": "markdown",
   "metadata": {},
   "source": [
    "*Exercise 3:* Modify exercise 2, so that it takes a matrix of the form from exercise 1 and draws a tic-tac-tie board with \"X\"s and \"O\"s.  "
   ]
  },
  {
   "cell_type": "code",
   "execution_count": 147,
   "metadata": {},
   "outputs": [],
   "source": [
    "def PlayerValue(board,n,m):\n",
    "    if board[n][m]==1:\n",
    "        return \"X\"\n",
    "    elif board[n][m]==2:\n",
    "        return \"O\"\n",
    "    else:\n",
    "        return \" \"\n",
    "\n",
    "def display_board(n,m):\n",
    "    \n",
    "    for i in range(n):\n",
    "        print(\" ---\"*m+\"\\n|\",end=\" \")\n",
    "        for j in range(m):\n",
    "            print(f\"{PlayerValue(board,i,j)}\",end=\" | \")\n",
    "        print(\"\")\n",
    "    print(\" ---\"*m)\n",
    "\n"
   ]
  },
  {
   "cell_type": "code",
   "execution_count": 148,
   "metadata": {},
   "outputs": [
    {
     "name": "stdout",
     "output_type": "stream",
     "text": [
      " --- --- ---\n",
      "|   |   |   | \n",
      " --- --- ---\n",
      "|   | O |   | \n",
      " --- --- ---\n",
      "|   |   | X | \n",
      " --- --- ---\n"
     ]
    }
   ],
   "source": [
    "board=[[0, 0, 0], \n",
    "       [0, 2, 0], \n",
    "       [0, 0, 1]]\n",
    "display_board(3,3)"
   ]
  },
  {
   "cell_type": "markdown",
   "metadata": {},
   "source": [
    "*Exercise 4:* Write a function that takes a `n` by `n` matrix representing a tic-tac-toe game, and returns -1, 0, 1, or 2 indicating the game is incomplete, the game is a draw, player 1 has won, or player 2 has one, respectively. Here are some example inputs you can use to test your code:"
   ]
  },
  {
   "cell_type": "code",
   "execution_count": 149,
   "metadata": {},
   "outputs": [],
   "source": [
    "def winner_check(board):\n",
    "    n = len(board)\n",
    "    \n",
    "    for i in range(n):\n",
    "        if all(board[i][0] == board[i][j] and board[i][0] != 0 for j in range(n)):\n",
    "            return board[i][0]\n",
    "    \n",
    "    for j in range(n):\n",
    "        if all(board[0][j] == board[i][j] and board[0][j] != 0 for i in range(n)):\n",
    "            return board[0][j]\n",
    "    \n",
    "    if all(board[0][0] == board[i][i] and board[0][0] != 0 for i in range(n)):\n",
    "        return board[0][0]\n",
    "    \n",
    "    if all(board[0][n-1] == board[i][n-1-i] and board[0][n-1] != 0 for i in range(n)):\n",
    "        return board[0][n-1]\n",
    "    \n",
    "    if any(0 in row for row in board):\n",
    "        return -1\n",
    "    \n",
    "    return 0"
   ]
  },
  {
   "cell_type": "code",
   "execution_count": 150,
   "metadata": {},
   "outputs": [
    {
     "data": {
      "text/plain": [
       "-1"
      ]
     },
     "execution_count": 150,
     "metadata": {},
     "output_type": "execute_result"
    }
   ],
   "source": [
    "#board=winner_is_2\n",
    "#winner_check(board)\n",
    "\n",
    "#board=winner_is_1\n",
    "#winner_check(board)\n",
    "\n",
    "#board=winner_is_also_1\n",
    "#winner_check(board)\n",
    "\n",
    "#board=no_winner\n",
    "#winner_check(board)\n",
    "\n",
    "board=also_no_winner\n",
    "winner_check(board)\n"
   ]
  },
  {
   "cell_type": "code",
   "execution_count": 151,
   "metadata": {},
   "outputs": [],
   "source": [
    "winner_is_2 = [[2, 2, 0],\n",
    "\t[2, 1, 0],\n",
    "\t[2, 1, 1]]\n",
    "\n",
    "winner_is_1 = [[1, 2, 0],\n",
    "\t[2, 1, 0],\n",
    "\t[2, 1, 1]]\n",
    "\n",
    "winner_is_also_1 = [[0, 1, 0],\n",
    "\t[2, 1, 0],\n",
    "\t[2, 1, 1]]\n",
    "\n",
    "no_winner = [[1, 2, 0],\n",
    "\t[2, 1, 0],\n",
    "\t[2, 1, 2]]\n",
    "\n",
    "also_no_winner = [[1, 2, 0],\n",
    "\t[2, 1, 0],\n",
    "\t[2, 1, 0]]"
   ]
  },
  {
   "cell_type": "markdown",
   "metadata": {},
   "source": [
    "*Exercise 5:* Write a function that takes a game board, player number, and `(x,y)` coordinates and places \"X\" or \"O\" in the correct location of the game board. Make sure that you only allow filling previously empty locations. Return `True` or `False` to indicate successful placement of \"X\" or \"O\"."
   ]
  },
  {
   "cell_type": "code",
   "execution_count": 152,
   "metadata": {},
   "outputs": [],
   "source": [
    "def place_move(board,player,x,y):\n",
    "    if board[x][y] == 0:\n",
    "        board[x][y] = player\n",
    "        return True\n",
    "    return False\n",
    "    "
   ]
  },
  {
   "cell_type": "code",
   "execution_count": 153,
   "metadata": {},
   "outputs": [
    {
     "data": {
      "text/plain": [
       "[[1, 2, 0], [2, 1, 0], [2, 1, 0]]"
      ]
     },
     "execution_count": 153,
     "metadata": {},
     "output_type": "execute_result"
    }
   ],
   "source": [
    "place_move(board,2,2,0)\n",
    "board"
   ]
  },
  {
   "cell_type": "markdown",
   "metadata": {},
   "source": [
    "*Exercise 6:* Modify Exercise 3 to show column and row labels so that players can specify location using \"A2\" or \"C1\"."
   ]
  },
  {
   "cell_type": "code",
   "execution_count": 154,
   "metadata": {},
   "outputs": [],
   "source": [
    "\n",
    "\n",
    "def display_board(board,n,m):\n",
    "    column_names=list(map(str,range(1,m+1)))\n",
    "    row_names=list(\"ABCDEFGHIJKLMNOPQRSTUVWXYZ\")\n",
    "    \n",
    "    print(\"  \",end=\"\")\n",
    "    for i in range(m):\n",
    "        print(f\"  {column_names[i]} \",end=\"\") #Numbers up top\n",
    "    \n",
    "    for i in range(n):\n",
    "        print(\"\\n  \",end=\"\")\n",
    "        print(\" ---\"*m)\n",
    "        print(f\"{row_names[i]} |\",end=\" \")\n",
    "        for j in range(m):\n",
    "            print(f\"{PlayerValue(board,i,j)}\",end=\" | \")\n",
    "\n",
    "    print(\"\\n \",\" ---\"*m)\n",
    "    \n"
   ]
  },
  {
   "cell_type": "code",
   "execution_count": 155,
   "metadata": {},
   "outputs": [
    {
     "name": "stdout",
     "output_type": "stream",
     "text": [
      "    1   2   3 \n",
      "   --- --- ---\n",
      "A | X | O |   | \n",
      "   --- --- ---\n",
      "B | O | X |   | \n",
      "   --- --- ---\n",
      "C | O | X |   | \n",
      "   --- --- ---\n"
     ]
    }
   ],
   "source": [
    "\n",
    "display_board(board,3,3)\n"
   ]
  },
  {
   "cell_type": "markdown",
   "metadata": {},
   "source": [
    "*Exercise 7:* Write a function that takes a board, player number, and location specified as in exercise 6 and then calls exercise 5 to correctly modify the board.  "
   ]
  },
  {
   "cell_type": "code",
   "execution_count": 167,
   "metadata": {},
   "outputs": [],
   "source": [
    "def make_move(board,player,sq): #better name\n",
    "    column_names=list(map(str,range(1,len(board)+1)))\n",
    "    row_names=list(\"ABCDEFGHIJKLMNOPQRSTUVWXYZ\")\n",
    "    x, y = sq[0], sq[1:]\n",
    "    x= row_names.index(x)\n",
    "    y= int(y)-1\n",
    "    \n",
    "    try:\n",
    "        if board[x][y] == 0:\n",
    "            board[x][y] = player\n",
    "            return True\n",
    "        return False\n",
    "    except:\n",
    "        False\n",
    "    "
   ]
  },
  {
   "cell_type": "code",
   "execution_count": 168,
   "metadata": {},
   "outputs": [
    {
     "name": "stdout",
     "output_type": "stream",
     "text": [
      "    1   2   3 \n",
      "   --- --- ---\n",
      "A |   |   |   | \n",
      "   --- --- ---\n",
      "B |   | X |   | \n",
      "   --- --- ---\n",
      "C |   |   |   | \n",
      "   --- --- ---\n",
      "    1   2   3 \n",
      "   --- --- ---\n",
      "A | O |   |   | \n",
      "   --- --- ---\n",
      "B |   | X | X | \n",
      "   --- --- ---\n",
      "C |   |   |   | \n",
      "   --- --- ---\n"
     ]
    }
   ],
   "source": [
    "board=create_board(3)\n",
    "make_move(board,1,\"B2\")\n",
    "display_board(board,3,3)\n",
    "make_move(board,2,\"A1\")\n",
    "make_move(board,1,\"B3\")\n",
    "display_board(board,3,3)"
   ]
  },
  {
   "cell_type": "markdown",
   "metadata": {},
   "source": [
    "*Exercise 8:* Write a function is called with a board and player number, takes input from the player using python's `input`, and modifies the board using your function from exercise 7. Note that you should keep asking for input until you have gotten a valid input that results in a valid move."
   ]
  },
  {
   "cell_type": "code",
   "execution_count": 175,
   "metadata": {},
   "outputs": [],
   "source": [
    "def get_move(board,player):\n",
    "    good_move=False\n",
    "    \n",
    "    while not good_move:\n",
    "        if player==1:\n",
    "            move =input(f\"Where will X play?\").upper()\n",
    "        else:\n",
    "            move =input(f\"Where will O play?\").upper()\n",
    "            \n",
    "        while len(move) < 2 or move[0] not in \"ABCDEFGHIJKLMNOPQRSTUVWXYZ\"[:len(board)] or not move[1:].isdigit():\n",
    "            print(\"Invalid format. Use format like A1, B2.\")\n",
    "            move =input(f\"{player} player, where will you play?\").upper()\n",
    "        good_move = make_move(board,player,move)"
   ]
  },
  {
   "cell_type": "code",
   "execution_count": 176,
   "metadata": {},
   "outputs": [
    {
     "name": "stdout",
     "output_type": "stream",
     "text": [
      "Where will O play?A3\n"
     ]
    }
   ],
   "source": [
    "get_move(board,2)"
   ]
  },
  {
   "cell_type": "code",
   "execution_count": 177,
   "metadata": {},
   "outputs": [
    {
     "name": "stdout",
     "output_type": "stream",
     "text": [
      "    1   2   3 \n",
      "   --- --- ---\n",
      "A | O | O | O | \n",
      "   --- --- ---\n",
      "B |   | X | X | \n",
      "   --- --- ---\n",
      "C |   |   |   | \n",
      "   --- --- ---\n"
     ]
    }
   ],
   "source": [
    "display_board(board,3,3)"
   ]
  },
  {
   "cell_type": "markdown",
   "metadata": {},
   "source": [
    "*Exercise 9:* Use all of the previous exercises to implement a full tic-tac-toe game, where an appropriate board is drawn, 2 players are repeatedly asked for a location coordinates of where they wish to place a mark, and the game status is checked until a player wins or a draw occurs."
   ]
  },
  {
   "cell_type": "code",
   "execution_count": 209,
   "metadata": {},
   "outputs": [],
   "source": [
    "def StartGame(boardsize):\n",
    "    board=create_board(boardsize)\n",
    "    display_board(board)\n",
    "    player=1\n",
    "    win=-1\n",
    "    while win==-1: #main game loop, runs until win check returns a new value indicating game end\n",
    "        get_move(board,player)\n",
    "        display_board(board)\n",
    "        win=winner_check(board)            \n",
    "        player = 2 if player == 1 else 1\n",
    "    if win ==1:\n",
    "        print(\"X Wins!\")\n",
    "    elif win ==2:\n",
    "        print(\"O Wins!\")\n",
    "    else:\n",
    "        print(\"It's a draw!\")\n",
    "        \n",
    "        \n",
    "\n",
    "def display_board(board):\n",
    "    n=len(board)\n",
    "    column_names=list(map(str,range(1,n+1))) #just numbers until board length (but plus one due to starting at 0)\n",
    "    row_names=list(\"ABCDEFGHIJKLMNOPQRSTUVWXYZ\")\n",
    "    \n",
    "    print(\"  \",end=\"\")\n",
    "    for i in range(n):\n",
    "        print(f\"  {column_names[i]} \",end=\"\") #Numbers up top\n",
    "    \n",
    "    for i in range(n):\n",
    "        print(\"\\n  \",end=\"\")\n",
    "        print(\" ---\"*n)\n",
    "        print(f\"{row_names[i]} |\",end=\" \") #Start main rows with letter from row names\n",
    "        for j in range(n):\n",
    "            print(f\"{PlayerValue(board,i,j)}\",end=\" | \")\n",
    "\n",
    "    print(\"\\n \",\" ---\"*n)\n",
    "    \n",
    "    \n",
    "def create_board(n):\n",
    "    board = []\n",
    "    for i in range(n):\n",
    "        board.append([0] * n)\n",
    "    return board\n",
    "\n",
    "\n",
    "def winner_check(board):\n",
    "    n = len(board)\n",
    "    for i in range(n):#rows\n",
    "        if all(board[i][0] == board[i][j] and board[i][0] != 0 for j in range(n)):\n",
    "            return board[i][0]\n",
    "    \n",
    "    for j in range(n):#columns\n",
    "        if all(board[0][j] == board[i][j] and board[0][j] != 0 for i in range(n)):\n",
    "            return board[0][j]\n",
    "    \n",
    "    if all(board[0][0] == board[i][i] and board[0][0] != 0 for i in range(n)):\n",
    "        return board[0][0]#first diag\n",
    "    \n",
    "    if all(board[0][n-1] == board[i][n-1-i] and board[0][n-1] != 0 for i in range(n)):\n",
    "        return board[0][n-1]#second diag\n",
    "    \n",
    "    if any(0 in row for row in board):\n",
    "        return -1 #continue, no winner and not over\n",
    "    \n",
    "    return 0 #stalemate\n",
    "\n",
    "\n",
    "def get_move(board,player):\n",
    "    good_move=False\n",
    "    \n",
    "    while not good_move:\n",
    "        if player==1:\n",
    "            move =input(f\"Where will X play?\").upper()\n",
    "        else:\n",
    "            move =input(f\"Where will O play?\").upper()\n",
    "            \n",
    "        while len(move) < 2 or move[0] not in \"ABCDEFGHIJKLMNOPQRSTUVWXYZ\"[:len(board)] or not move[1:].isdigit():\n",
    "            print(\"Invalid format. Use format like A1, B2.\")\n",
    "            if player==1:\n",
    "                move =input(f\"Where will X play?\").upper()\n",
    "            else:\n",
    "                move =input(f\"Where will O play?\").upper()\n",
    "        good_move = make_move(board,player,move)   \n",
    "        \n",
    "def make_move(board,player,sq): #better name\n",
    "    column_names=list(map(str,range(1,len(board)+1)))\n",
    "    row_names=list(\"ABCDEFGHIJKLMNOPQRSTUVWXYZ\")\n",
    "    x, y = sq[0], sq[1:]\n",
    "    x= row_names.index(x)\n",
    "    y= int(y)-1\n",
    "    \n",
    "    try:\n",
    "        if board[x][y] == 0:\n",
    "            board[x][y] = player\n",
    "            \n",
    "            return True\n",
    "        print(\"Invalid location\")\n",
    "        return False\n",
    "    except:\n",
    "        print(\"Invalid location, please make sure you're entering the correct cell.\")\n",
    "        False\n",
    "    \n",
    "def PlayerValue(board,n,m):\n",
    "    if board[n][m]==1:\n",
    "        return \"X\"\n",
    "    elif board[n][m]==2:\n",
    "        return \"O\"\n",
    "    else:\n",
    "        return \" \"\n",
    "    \n",
    "    "
   ]
  },
  {
   "cell_type": "code",
   "execution_count": 210,
   "metadata": {},
   "outputs": [
    {
     "name": "stdout",
     "output_type": "stream",
     "text": [
      "    1   2   3 \n",
      "   --- --- ---\n",
      "A |   |   |   | \n",
      "   --- --- ---\n",
      "B |   |   |   | \n",
      "   --- --- ---\n",
      "C |   |   |   | \n",
      "   --- --- ---\n",
      "Where will X play?A1\n",
      "    1   2   3 \n",
      "   --- --- ---\n",
      "A | X |   |   | \n",
      "   --- --- ---\n",
      "B |   |   |   | \n",
      "   --- --- ---\n",
      "C |   |   |   | \n",
      "   --- --- ---\n",
      "Where will O play?A1\n",
      "Invalid location\n",
      "Where will O play?A2\n",
      "    1   2   3 \n",
      "   --- --- ---\n",
      "A | X | O |   | \n",
      "   --- --- ---\n",
      "B |   |   |   | \n",
      "   --- --- ---\n",
      "C |   |   |   | \n",
      "   --- --- ---\n",
      "Where will X play?B1\n",
      "    1   2   3 \n",
      "   --- --- ---\n",
      "A | X | O |   | \n",
      "   --- --- ---\n",
      "B | X |   |   | \n",
      "   --- --- ---\n",
      "C |   |   |   | \n",
      "   --- --- ---\n",
      "Where will O play?B4\n",
      "Invalid location, please make sure you're entering the correct cell.\n",
      "Where will O play?B3\n",
      "    1   2   3 \n",
      "   --- --- ---\n",
      "A | X | O |   | \n",
      "   --- --- ---\n",
      "B | X |   | O | \n",
      "   --- --- ---\n",
      "C |   |   |   | \n",
      "   --- --- ---\n",
      "Where will X play?C3\n",
      "    1   2   3 \n",
      "   --- --- ---\n",
      "A | X | O |   | \n",
      "   --- --- ---\n",
      "B | X |   | O | \n",
      "   --- --- ---\n",
      "C |   |   | X | \n",
      "   --- --- ---\n",
      "Where will O play?A3\n",
      "    1   2   3 \n",
      "   --- --- ---\n",
      "A | X | O | O | \n",
      "   --- --- ---\n",
      "B | X |   | O | \n",
      "   --- --- ---\n",
      "C |   |   | X | \n",
      "   --- --- ---\n",
      "Where will X play?B2\n",
      "    1   2   3 \n",
      "   --- --- ---\n",
      "A | X | O | O | \n",
      "   --- --- ---\n",
      "B | X | X | O | \n",
      "   --- --- ---\n",
      "C |   |   | X | \n",
      "   --- --- ---\n",
      "X Wins!\n"
     ]
    }
   ],
   "source": [
    "StartGame(3)"
   ]
  },
  {
   "cell_type": "markdown",
   "metadata": {},
   "source": [
    "*Exercise 10:* Test that your game works for 5x5 Tic Tac Toe.  "
   ]
  },
  {
   "cell_type": "code",
   "execution_count": 211,
   "metadata": {},
   "outputs": [
    {
     "name": "stdout",
     "output_type": "stream",
     "text": [
      "    1   2   3   4   5 \n",
      "   --- --- --- --- ---\n",
      "A |   |   |   |   |   | \n",
      "   --- --- --- --- ---\n",
      "B |   |   |   |   |   | \n",
      "   --- --- --- --- ---\n",
      "C |   |   |   |   |   | \n",
      "   --- --- --- --- ---\n",
      "D |   |   |   |   |   | \n",
      "   --- --- --- --- ---\n",
      "E |   |   |   |   |   | \n",
      "   --- --- --- --- ---\n",
      "Where will X play?A4\n",
      "    1   2   3   4   5 \n",
      "   --- --- --- --- ---\n",
      "A |   |   |   | X |   | \n",
      "   --- --- --- --- ---\n",
      "B |   |   |   |   |   | \n",
      "   --- --- --- --- ---\n",
      "C |   |   |   |   |   | \n",
      "   --- --- --- --- ---\n",
      "D |   |   |   |   |   | \n",
      "   --- --- --- --- ---\n",
      "E |   |   |   |   |   | \n",
      "   --- --- --- --- ---\n",
      "Where will O play?B2\n",
      "    1   2   3   4   5 \n",
      "   --- --- --- --- ---\n",
      "A |   |   |   | X |   | \n",
      "   --- --- --- --- ---\n",
      "B |   | O |   |   |   | \n",
      "   --- --- --- --- ---\n",
      "C |   |   |   |   |   | \n",
      "   --- --- --- --- ---\n",
      "D |   |   |   |   |   | \n",
      "   --- --- --- --- ---\n",
      "E |   |   |   |   |   | \n",
      "   --- --- --- --- ---\n",
      "Where will X play?C3\n",
      "    1   2   3   4   5 \n",
      "   --- --- --- --- ---\n",
      "A |   |   |   | X |   | \n",
      "   --- --- --- --- ---\n",
      "B |   | O |   |   |   | \n",
      "   --- --- --- --- ---\n",
      "C |   |   | X |   |   | \n",
      "   --- --- --- --- ---\n",
      "D |   |   |   |   |   | \n",
      "   --- --- --- --- ---\n",
      "E |   |   |   |   |   | \n",
      "   --- --- --- --- ---\n",
      "Where will O play?D5\n",
      "    1   2   3   4   5 \n",
      "   --- --- --- --- ---\n",
      "A |   |   |   | X |   | \n",
      "   --- --- --- --- ---\n",
      "B |   | O |   |   |   | \n",
      "   --- --- --- --- ---\n",
      "C |   |   | X |   |   | \n",
      "   --- --- --- --- ---\n",
      "D |   |   |   |   | O | \n",
      "   --- --- --- --- ---\n",
      "E |   |   |   |   |   | \n",
      "   --- --- --- --- ---\n",
      "Where will X play?E1\n",
      "    1   2   3   4   5 \n",
      "   --- --- --- --- ---\n",
      "A |   |   |   | X |   | \n",
      "   --- --- --- --- ---\n",
      "B |   | O |   |   |   | \n",
      "   --- --- --- --- ---\n",
      "C |   |   | X |   |   | \n",
      "   --- --- --- --- ---\n",
      "D |   |   |   |   | O | \n",
      "   --- --- --- --- ---\n",
      "E | X |   |   |   |   | \n",
      "   --- --- --- --- ---\n",
      "Where will O play?AA\n",
      "Invalid format. Use format like A1, B2.\n",
      "Where will O play?F2\n",
      "Invalid format. Use format like A1, B2.\n",
      "Where will O play?A4\n",
      "Invalid location\n",
      "Where will O play?C5\n",
      "    1   2   3   4   5 \n",
      "   --- --- --- --- ---\n",
      "A |   |   |   | X |   | \n",
      "   --- --- --- --- ---\n",
      "B |   | O |   |   |   | \n",
      "   --- --- --- --- ---\n",
      "C |   |   | X |   | O | \n",
      "   --- --- --- --- ---\n",
      "D |   |   |   |   | O | \n",
      "   --- --- --- --- ---\n",
      "E | X |   |   |   |   | \n",
      "   --- --- --- --- ---\n",
      "Where will X play?B1\n",
      "    1   2   3   4   5 \n",
      "   --- --- --- --- ---\n",
      "A |   |   |   | X |   | \n",
      "   --- --- --- --- ---\n",
      "B | X | O |   |   |   | \n",
      "   --- --- --- --- ---\n",
      "C |   |   | X |   | O | \n",
      "   --- --- --- --- ---\n",
      "D |   |   |   |   | O | \n",
      "   --- --- --- --- ---\n",
      "E | X |   |   |   |   | \n",
      "   --- --- --- --- ---\n",
      "Where will O play?A5\n",
      "    1   2   3   4   5 \n",
      "   --- --- --- --- ---\n",
      "A |   |   |   | X | O | \n",
      "   --- --- --- --- ---\n",
      "B | X | O |   |   |   | \n",
      "   --- --- --- --- ---\n",
      "C |   |   | X |   | O | \n",
      "   --- --- --- --- ---\n",
      "D |   |   |   |   | O | \n",
      "   --- --- --- --- ---\n",
      "E | X |   |   |   |   | \n",
      "   --- --- --- --- ---\n",
      "Where will X play?A2\n",
      "    1   2   3   4   5 \n",
      "   --- --- --- --- ---\n",
      "A |   | X |   | X | O | \n",
      "   --- --- --- --- ---\n",
      "B | X | O |   |   |   | \n",
      "   --- --- --- --- ---\n",
      "C |   |   | X |   | O | \n",
      "   --- --- --- --- ---\n",
      "D |   |   |   |   | O | \n",
      "   --- --- --- --- ---\n",
      "E | X |   |   |   |   | \n",
      "   --- --- --- --- ---\n",
      "Where will O play?B5\n",
      "    1   2   3   4   5 \n",
      "   --- --- --- --- ---\n",
      "A |   | X |   | X | O | \n",
      "   --- --- --- --- ---\n",
      "B | X | O |   |   | O | \n",
      "   --- --- --- --- ---\n",
      "C |   |   | X |   | O | \n",
      "   --- --- --- --- ---\n",
      "D |   |   |   |   | O | \n",
      "   --- --- --- --- ---\n",
      "E | X |   |   |   |   | \n",
      "   --- --- --- --- ---\n",
      "Where will X play?D2\n",
      "    1   2   3   4   5 \n",
      "   --- --- --- --- ---\n",
      "A |   | X |   | X | O | \n",
      "   --- --- --- --- ---\n",
      "B | X | O |   |   | O | \n",
      "   --- --- --- --- ---\n",
      "C |   |   | X |   | O | \n",
      "   --- --- --- --- ---\n",
      "D |   | X |   |   | O | \n",
      "   --- --- --- --- ---\n",
      "E | X |   |   |   |   | \n",
      "   --- --- --- --- ---\n",
      "Where will O play?E5\n",
      "    1   2   3   4   5 \n",
      "   --- --- --- --- ---\n",
      "A |   | X |   | X | O | \n",
      "   --- --- --- --- ---\n",
      "B | X | O |   |   | O | \n",
      "   --- --- --- --- ---\n",
      "C |   |   | X |   | O | \n",
      "   --- --- --- --- ---\n",
      "D |   | X |   |   | O | \n",
      "   --- --- --- --- ---\n",
      "E | X |   |   |   | O | \n",
      "   --- --- --- --- ---\n",
      "O Wins!\n"
     ]
    }
   ],
   "source": [
    "StartGame(5)"
   ]
  },
  {
   "cell_type": "markdown",
   "metadata": {},
   "source": [
    "*Exercise 11:* (Advanced / Challenge) Develop a version of the game where one player is the computer. Note that you don't need to do an extensive seach for the best move. You can have the computer simply protect against loosing and otherwise try to win with straight or diagonal patterns."
   ]
  },
  {
   "cell_type": "code",
   "execution_count": null,
   "metadata": {
    "collapsed": true
   },
   "outputs": [],
   "source": [
    "# Write you solution here"
   ]
  },
  {
   "cell_type": "code",
   "execution_count": null,
   "metadata": {
    "collapsed": true
   },
   "outputs": [],
   "source": [
    "# Test your solution here"
   ]
  }
 ],
 "metadata": {
  "kernelspec": {
   "display_name": "Python 3 (ipykernel)",
   "language": "python",
   "name": "python3"
  },
  "language_info": {
   "codemirror_mode": {
    "name": "ipython",
    "version": 3
   },
   "file_extension": ".py",
   "mimetype": "text/x-python",
   "name": "python",
   "nbconvert_exporter": "python",
   "pygments_lexer": "ipython3",
   "version": "3.12.3"
  }
 },
 "nbformat": 4,
 "nbformat_minor": 2
}
