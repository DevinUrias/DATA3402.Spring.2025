{
 "cells": [
  {
   "cell_type": "markdown",
   "metadata": {},
   "source": [
    "# Lab 3\n",
    "\n",
    "In this lab we will become familiar with distributions, histograms, and functional programming. Do not use numpy or any other library for this lab.\n",
    "\n",
    "Before that, lets get setup homework submission and submit your previous lab.  \n",
    "\n",
    "## Working on the Command-line.\n",
    "\n",
    "It is important for you to learn to work on the command line and to be familiar with the Unix environment (e.g. Linux, Mac OS, or Windows Linux Subsystem). We'll go over working on the command-line in detail later in the course.\n",
    "\n",
    "You are required to submit your work in this course via GitHub. Today in class, you will setup everything on the command-line.\n",
    "\n",
    "### Command-line basics\n",
    "\n",
    "There is plenty of material online that will help you figure out how to do various tasks on the command line. Commands you may need to know today:\n",
    "\n",
    "* `ls`: lists the contents of the current directory.\n",
    "* `pwd`: prints the path of the current directory.\n",
    "* `cd <directory>`: changes your current directory to the specified directory.\n",
    "* `cd ..`: changes current directory to the previous directory. Basically steps out of the current directory to the directory containing the current directory.\n",
    "* `mkdir <directory>`: create a new directory with the specified name.\n",
    "* `rmdir <directory>`: removes the specified directory. Note it has to be empty.\n",
    "* `rm <filename>`: deletes the specified file.\n",
    "* `mv <filename 1> <filename 2>`: Moves or renames a file.\n",
    "* `cp <filename 1> <filename 2>`: copies an file. If you just provide a path to a directory, it copies the file into that directory with the same filename. If you specifiy a new filename, the copy has a new name. For example `cp File.1.txt File.2.txt` creates a copy of `File.1.txt` with the name `File.2.txt`. Meanwhile `cp File.1.txt my_directory`, where `my_directory` is a directory, creates a copy of `File.1.txt` in directory `my_directory` with the name `File.1.txt`.\n",
    "\n",
    "For reference, here are some example resources I found by googling:\n",
    "\n",
    "* Paths and Wildcards: https://www.warp.dev/terminus/linux-wildcards\n",
    "* Basic commands like copy: https://kb.iu.edu/d/afsk\n",
    "* General introduction to shell: https://github-pages.ucl.ac.uk/RCPSTrainingMaterials/HPCandHTCusingLegion/2_intro_to_shell.html\n",
    "* Manual pages: https://www.geeksforgeeks.org/linux-man-page-entries-different-types/?ref=ml_lbp\n",
    "* Chaining commands: https://www.geeksforgeeks.org/chaining-commands-in-linux/?ref=ml_lbp\n",
    "* Piping: https://www.geeksforgeeks.org/piping-in-unix-or-linux/\n",
    "* Using sed: https://www.geeksforgeeks.org/sed-command-linux-set-2/?ref=ml_lbp\n",
    "* Various Unix commands: https://www.geeksforgeeks.org/linux-commands/?ref=lbp\n",
    "* Cheat sheets:\n",
    "    * https://www.stationx.net/unix-commands-cheat-sheet/\n",
    "    * https://cheatography.com/davechild/cheat-sheets/linux-command-line/\n",
    "    * https://www.theknowledgeacademy.com/blog/unix-commands-cheat-sheet/\n",
    "    \n",
    "These aren't necessarily the best resources. Feel free to search for better ones. Also, don't forget that Unix has built-in manual pages for all of its commands. Just type `man <command>` at the command prompt. Use the space-bar to scroll through the documentation and \"q\" to exit.\n",
    "\n",
    "\n",
    "### Setup and Submission\n",
    "\n",
    "Our course repository is public. The instructions here aim to have you setup a fork of the course repository. Unfortunately because you are forking a public repo, your fork will have to be public also. \n",
    "\n",
    "You should be familiar with git from the first semester of this course. I assume that you all have github accounts and have setup things to be able to [push to github using ssh](https://docs.github.com/en/github/authenticating-to-github/connecting-to-github-with-ssh). The instuctions here lead you to:\n",
    "\n",
    "We'll overview what you will do before going through step by step instructions.\n",
    "\n",
    "1. Setup:\n",
    "    1. Fork the class repository. Some directions in [fork-a-repo](https://docs.github.com/en/github/getting-started-with-github/fork-a-repo).\n",
    "    1. Create a directory on your personal system where you will keep all course materials.\n",
    "    1. In that directory, clone your fork of the repository.\n",
    "    1. Using `git remote`, set the upstream to be the class repo, so you can pull from the class and push to your fork.\n",
    "\n",
    "1. Submission:\n",
    "    1. Copy your solutions into the appropriate directory (e.g. into `Labs/Lab.2/`) and with appropriate filename `Lab.2.solution.ipynb'.\n",
    "    1. Commit / push your solutions.\n",
    " \n",
    "Below are step by step instructions with examples (including example directory naming convention). Feel free to modify things as you see fit. \n",
    "\n",
    "#### Setup\n",
    "You should only need to follow this instructions once. Here are some useful git commands:\n",
    "\n",
    "* Git help: `git help`\n",
    "* Git remote help: `git help remote`\n",
    "* Check remote status: `git remote -v`\n",
    "* Add a remote: `git remote add <stream name> <repo URL>`\n",
    "* Add a remove: `git remote remove <stream name>`\n",
    "\n",
    "Steps:\n",
    "1. In a browser, log into GitHub and navigate to the [course repository](https://github.com/UTA-DataScience/DATA3402.Spring.2025).\n",
    "1. On the top right of the page, press the fork button to create a new fork into your own GitHub account.\n",
    "1. After successful fork, you should find the browser showing your fork of the course repository. Use the green \"Code\" button to copy path to the repo into your the clipboard of your computer.\n",
    "1. Open a shell on your personal computer.\n",
    "1. If you have not done so already, create a new directory/folder where you will keep all course material to navigate to it. For example: `mkdir Data-3402` and `cd Data-3402`.\n",
    "1. Clone your fork of the repository using `git clone` followed by the path you copied into your clipboard. (copy/paste)\n",
    "1. Paste the URL to your fork in the worksheet for the TAs and instructors.\n",
    "1. Now go into the directory of your clone (`cd DATA3402.Spring.2025`).\n",
    "1. Type `git remote -v` to see the current setup for fetch and pull.\n",
    "1. Note the URL you see. This should be the same as what you used for your clone for both push and fetch.\n",
    "1. Delete the origin remote using `git remote remove origin`.\n",
    "1. Add the course repo as your remote using `git remote add origin https://github.com/UTA-DataScience/DATA3402.Spring.2025.git`.\n",
    "1. Change the push to point to your fork. This means you will need the URL to your clone we copied earlier and confirmed as the original origin. The command will look something like: `git remote set-url --push origin  https://github.com/XXXXXX/DATA3402.Spring.2025.git`, where XXXXX is your username on GitHub.\n",
    "1. Note that if you setup everything correctly, you now should be able to do `git pull` to get updates from the course repo, and do `git push` to push your commits into your own fork.\n",
    "\n",
    "### Submission\n",
    "These instructions outline how you submit files. Some useful commands:\n",
    "* To add a file to local repository: `git add <file>`.\n",
    "* To commit all changed files into local repository: `git -a -m \"A message\"`. You need to provide some comment when you commit. \n",
    "* To push the commited files from the local repository to GitHub: `git push`.\n",
    "* To get updates from GitHub: `git pull`.\n",
    "\n",
    "Steps:\n",
    "1. To submit your labs, navigate to your clone of your fork of the course repository. \n",
    "1. Use `git pull` to make sure you have the latest updates. \n",
    "1. Make sure your copy of the lab your are working on is in the appropriate place in this clone. That means if you have the file elsewhere, copy it to the same directory in your clone of your fork. \n",
    "1. Note that in order to avoid future conflicts, you should always name your solution differently than the original file in the class repo. For example if your file is still named `Lab.2.ipynb` you should rename it using the `mv` command: `mv Lab.2.ipynb Lab.2.solution.ipynb`. \n",
    "1. Add and files you wish to submit into the repo. For example: `git add Labs/Lab.2/Lab.2.solution.ipynb`\n",
    "1. Commit any changes: `git commit -a -m \"Lab 2 updates\"`\n",
    "1. Push your changes: `git push`\n",
    "1. Check on github website that your solutions have been properly submitted.\n",
    "\n",
    "Before you leave the session today, make sure your GitHub Repo is setup. If you need to work further on your lab, navigate jupyter to the copy of the lab you just submitted and work there. Once done, repeat the commit and push commands to submit your updated solution. Note that lab 2 is due by midnight Friay 1/31/2025.\n"
   ]
  },
  {
   "cell_type": "markdown",
   "metadata": {},
   "source": [
    "### Uniform Distribution\n",
    "Lets start with generating some fake random data. You can get a random number between 0 and 1 using the python random module as follow:"
   ]
  },
  {
   "cell_type": "code",
   "execution_count": 49,
   "metadata": {},
   "outputs": [
    {
     "name": "stdout",
     "output_type": "stream",
     "text": [
      "The Value of x is 0.7726225145765914\n"
     ]
    }
   ],
   "source": [
    "import random\n",
    "x=random.random()\n",
    "print(\"The Value of x is\", x)"
   ]
  },
  {
   "cell_type": "markdown",
   "metadata": {},
   "source": [
    "Everytime you call random, you will get a new number.\n",
    "\n",
    "*Exercise 1:* Using random, write a function `generate_uniform(N, mymin, mymax)`, that returns a python list containing N random numbers between specified minimum and maximum value. Note that you may want to quickly work out on paper how to turn numbers between 0 and 1 to between other values. "
   ]
  },
  {
   "cell_type": "code",
   "execution_count": 50,
   "metadata": {},
   "outputs": [],
   "source": [
    "# Skeleton\n",
    "def generate_uniform(N,x_min,x_max):\n",
    "    out = []\n",
    "    ### BEGIN SOLUTION\n",
    "    a = 1111111\n",
    "    b = 2222222\n",
    "    m = 6700417  # Large prime number\n",
    "    x = 3877437\n",
    "    \n",
    "    def random():\n",
    "        nonlocal x\n",
    "        x = (a * x + b) % m\n",
    "        return x / m  # Normalize to range 0 -> 1\n",
    "    \n",
    "    for _ in range(N):\n",
    "        rand_num = random() * (x_max - x_min) + x_min  # Scale to [x_min, x_max]\n",
    "        out.append(rand_num)\n",
    "\n",
    "\n",
    "    ### END SOLUTION\n",
    "    return out"
   ]
  },
  {
   "cell_type": "code",
   "execution_count": 51,
   "metadata": {},
   "outputs": [
    {
     "name": "stdout",
     "output_type": "stream",
     "text": [
      "Data Type: <class 'list'>\n",
      "Data Length: 1000\n",
      "Type of Data Contents: <class 'float'>\n",
      "Data Minimum: -9.99194080010244\n",
      "Data Maximum: 9.990845345894144\n"
     ]
    }
   ],
   "source": [
    "# Test your solution here\n",
    "data=generate_uniform(1000,-10,10)\n",
    "print (\"Data Type:\", type(data))\n",
    "print (\"Data Length:\", len(data))\n",
    "if len(data)>0: \n",
    "    print (\"Type of Data Contents:\", type(data[0]))\n",
    "    print (\"Data Minimum:\", min(data))\n",
    "    print (\"Data Maximum:\", max(data))"
   ]
  },
  {
   "cell_type": "markdown",
   "metadata": {},
   "source": [
    "*Exercise 2a:* \n",
    "Write a function that computes the mean of values in a list. Recall the equation for the mean of a random variable $\\bf{x}$ computed on a data set of $n$ values $\\{ x_i \\} = \\{x_1, x_2, ..., x_n\\}$  is ${\\bf\\bar{x}} = \\frac{1}{n} \\sum_i^n x_i$."
   ]
  },
  {
   "cell_type": "code",
   "execution_count": 52,
   "metadata": {},
   "outputs": [],
   "source": [
    "# Skeleton\n",
    "def mean(Data):\n",
    "    m=0.\n",
    "    \n",
    "    ### BEGIN SOLUTION\n",
    "\n",
    "    if Data:\n",
    "        m = sum(Data) / len(Data)        \n",
    "    \n",
    "    ### END SOLUTION\n",
    "    \n",
    "    return m"
   ]
  },
  {
   "cell_type": "code",
   "execution_count": 53,
   "metadata": {},
   "outputs": [
    {
     "name": "stdout",
     "output_type": "stream",
     "text": [
      "Mean of Data: 0.0040025061126792464\n"
     ]
    }
   ],
   "source": [
    "# Test your solution here\n",
    "print (\"Mean of Data:\", mean(data))"
   ]
  },
  {
   "cell_type": "markdown",
   "metadata": {},
   "source": [
    "*Exercise 2b:* \n",
    "Write a function that computes the variance of values in a list. Recall the equation for the variance of a random variable $\\bf{x}$ computed on a data set of $n$ values $\\{ x_i \\} = \\{x_1, x_2, ..., x_n\\}$  is ${\\bf\\langle x \\rangle} = \\frac{1}{n-1} \\sum_i^n (x_i - {\\bf\\bar{x}})^2$."
   ]
  },
  {
   "cell_type": "code",
   "execution_count": 54,
   "metadata": {},
   "outputs": [],
   "source": [
    "# Skeleton\n",
    "def variance(Data):\n",
    "    m=0.\n",
    "    \n",
    "    ### BEGIN SOLUTION\n",
    "\n",
    "    if len(Data) > 1:\n",
    "        m = mean(Data)\n",
    "        dataVar = sum((x - m) ** 2 for x in Data) / (len(Data) - 1) \n",
    "        \n",
    "    ### END SOLUTION\n",
    "    \n",
    "    return m"
   ]
  },
  {
   "cell_type": "code",
   "execution_count": 55,
   "metadata": {},
   "outputs": [
    {
     "name": "stdout",
     "output_type": "stream",
     "text": [
      "Variance of Data: 0.0040025061126792464\n"
     ]
    }
   ],
   "source": [
    "# Test your solution here\n",
    "print (\"Variance of Data:\", variance(data))"
   ]
  },
  {
   "cell_type": "markdown",
   "metadata": {},
   "source": [
    "## Histogramming"
   ]
  },
  {
   "cell_type": "markdown",
   "metadata": {},
   "source": [
    "*Exercise 3:* Write a function that bins the data so that you can create a histogram. An example of how to implement histogramming is the following logic:\n",
    "\n",
    "* User inputs a list of values `x` and optionally `n_bins` which defaults to 10.\n",
    "* If not supplied, find the minimum and maximum (`x_min`,`x_max`) of the values in x.\n",
    "* Determine the bin size (`bin_size`) by dividing the range of the function by the number of bins.\n",
    "* Create an empty list of zeros of size `n_bins`, call it `hist`.\n",
    "* Loop over the values in `x`\n",
    "    * Loop over the values in `hist` with index `i`:\n",
    "        * If x is between `x_min+i*bin_size` and `x_min+(i+1)*bin_size`, increment `hist[i].` \n",
    "        * For efficiency, try to use continue to goto the next bin and data point.\n",
    "* Return `hist` and the list corresponding of the bin edges (i.e. of `x_min+i*bin_size`).    "
   ]
  },
  {
   "cell_type": "code",
   "execution_count": 56,
   "metadata": {},
   "outputs": [],
   "source": [
    "# Solution\n",
    "def histogram(x,n_bins=10,x_min=None,x_max=None):\n",
    "    ### BEGIN SOLUTION\n",
    "\n",
    "    if x_min is None:\n",
    "        x_min = min(x)\n",
    "    if x_max is None:\n",
    "        x_max = max(x)\n",
    "    \n",
    "    bin_size = (x_max - x_min) / n_bins\n",
    "    hist = [0] * n_bins\n",
    "    bin_edges = [x_min + i * bin_size for i in range(n_bins + 1)]\n",
    "    \n",
    "    for value in x:\n",
    "        for i in range(n_bins):\n",
    "            if x_min + i * bin_size <= value < x_min + (i + 1) * bin_size:\n",
    "                hist[i] += 1\n",
    "                break        \n",
    "    \n",
    "    ### END SOLUTION\n",
    "\n",
    "    return hist,bin_edges"
   ]
  },
  {
   "cell_type": "code",
   "execution_count": 57,
   "metadata": {},
   "outputs": [
    {
     "name": "stdout",
     "output_type": "stream",
     "text": [
      "[10, 14, 11, 11, 13, 13, 11, 11, 11, 9, 11, 10, 7, 12, 16, 10, 6, 8, 10, 7, 11, 4, 18, 8, 6, 8, 11, 8, 14, 9, 7, 6, 8, 6, 11, 11, 5, 14, 1, 12, 9, 11, 6, 12, 12, 17, 7, 12, 10, 6, 15, 5, 9, 11, 10, 12, 7, 7, 13, 9, 14, 16, 10, 6, 11, 5, 9, 11, 15, 3, 12, 16, 10, 12, 8, 8, 8, 3, 8, 13, 13, 7, 22, 9, 16, 9, 10, 14, 5, 8, 11, 13, 12, 9, 9, 13, 8, 8, 6, 10]\n"
     ]
    }
   ],
   "source": [
    "# Test your solution here\n",
    "h,b=histogram(data,100)\n",
    "print(h)"
   ]
  },
  {
   "cell_type": "markdown",
   "metadata": {},
   "source": [
    "*Exercise 4:* Write a function that uses the histogram function in the previous exercise to create a text-based \"graph\". For example the output could look like the following:\n",
    "```\n",
    "[  0,  1] : ######\n",
    "[  1,  2] : #####\n",
    "[  2,  3] : ######\n",
    "[  3,  4] : ####\n",
    "[  4,  5] : ####\n",
    "[  5,  6] : ######\n",
    "[  6,  7] : #####\n",
    "[  7,  8] : ######\n",
    "[  8,  9] : ####\n",
    "[  9, 10] : #####\n",
    "```\n",
    "\n",
    "Where each line corresponds to a bin and the number of `#`'s are proportional to the value of the data in the bin. "
   ]
  },
  {
   "cell_type": "code",
   "execution_count": 58,
   "metadata": {},
   "outputs": [],
   "source": [
    "# Solution\n",
    "def draw_histogram(x,n_bins,x_min=None,x_max=None,character=\"#\",max_character_per_line=20):\n",
    "    ### BEGIN SOLUTION\n",
    "\n",
    "    hist, bin_edges = histogram(x, n_bins, x_min, x_max)\n",
    "    max_count = max(hist) if hist else 1\n",
    "    \n",
    "    for i in range(len(hist)):\n",
    "        bin_range = f\"[{bin_edges[i]:6.2f}, {bin_edges[i+1]:6.2f}]\"\n",
    "        bar_length = int((hist[i] / max_count) * max_character_per_line)\n",
    "        bar = character * bar_length\n",
    "        print(f\"{bin_range} : {bar}\")    \n",
    "    ### END SOLUTION\n",
    "\n",
    "    return hist,bin_edges"
   ]
  },
  {
   "cell_type": "code",
   "execution_count": 59,
   "metadata": {
    "scrolled": true
   },
   "outputs": [
    {
     "name": "stdout",
     "output_type": "stream",
     "text": [
      "[ -9.99,  -8.99] : #################\n",
      "[ -8.99,  -7.99] : ################\n",
      "[ -7.99,  -6.99] : ################\n",
      "[ -6.99,  -6.00] : ############\n",
      "[ -6.00,  -5.00] : ##############\n",
      "[ -5.00,  -4.00] : ##############\n",
      "[ -4.00,  -3.00] : ###########\n",
      "[ -3.00,  -2.00] : ############\n",
      "[ -2.00,  -1.00] : ##############\n",
      "[ -1.00,  -0.00] : ###############\n",
      "[ -0.00,   1.00] : ##############\n",
      "[  1.00,   2.00] : ##############\n",
      "[  2.00,   3.00] : #################\n",
      "[  3.00,   4.00] : ############\n",
      "[  4.00,   5.00] : #################\n",
      "[  5.00,   5.99] : ###########\n",
      "[  5.99,   6.99] : ####################\n",
      "[  6.99,   7.99] : #############\n",
      "[  7.99,   8.99] : ################\n",
      "[  8.99,   9.99] : #############\n"
     ]
    }
   ],
   "source": [
    "# Test your solution here\n",
    "h,b=draw_histogram(data,20)"
   ]
  },
  {
   "cell_type": "markdown",
   "metadata": {},
   "source": [
    "## Functional Programming\n",
    "\n",
    "*Exercise 5:* Write a function the applies a booling function (that returns true/false) to every element in data, and return a list of indices of elements where the result was true. Use this function to find the indices of entries greater than 0.5. "
   ]
  },
  {
   "cell_type": "code",
   "execution_count": 60,
   "metadata": {},
   "outputs": [],
   "source": [
    "def where(mylist,myfunc):\n",
    "    out= []\n",
    "    \n",
    "    ### BEGIN SOLUTION\n",
    "\n",
    "    out = [i for i, j in enumerate(mylist) if myfunc(j)]\n",
    "        \n",
    "    ### END SOLUTION\n",
    "    \n",
    "    return out"
   ]
  },
  {
   "cell_type": "code",
   "execution_count": 61,
   "metadata": {},
   "outputs": [
    {
     "name": "stdout",
     "output_type": "stream",
     "text": [
      "[0.1924375885762497, 0.9889262934527456, 0.06313024869998463, 0.03592277024215018, 0.946898053091841, 0.80213219488117, 0.9082445963447203, 0.2739996908332262, 0.030468541176618236, 0.7069212665925275]\n",
      "[1, 4, 5, 6, 9]\n"
     ]
    }
   ],
   "source": [
    "numbers=[random.random() for _ in range(10)]\n",
    "greater_than = where(numbers, lambda x: x > 0.5)\n",
    "print(numbers)\n",
    "print(greater_than)"
   ]
  },
  {
   "cell_type": "markdown",
   "metadata": {},
   "source": [
    "*Exercise 6:* The `inrange(mymin,mymax)` function below returns a function that tests if it's input is between the specified values. Write corresponding functions that test:\n",
    "* Even\n",
    "* Odd\n",
    "* Greater than\n",
    "* Less than\n",
    "* Equal\n",
    "* Divisible by"
   ]
  },
  {
   "cell_type": "code",
   "execution_count": 62,
   "metadata": {},
   "outputs": [
    {
     "name": "stdout",
     "output_type": "stream",
     "text": [
      "True True False False False\n",
      "False False True True False\n",
      "Number of Entries passing F1: 509\n",
      "Number of Entries passing F2: 0\n"
     ]
    }
   ],
   "source": [
    "def in_range(mymin,mymax):\n",
    "    def testrange(x):\n",
    "        return x<mymax and x>=mymin\n",
    "    return testrange\n",
    "\n",
    "# Examples:\n",
    "F1=in_range(0,10)\n",
    "F2=in_range(10,20)\n",
    "\n",
    "# Test of in_range\n",
    "print (F1(0), F1(1), F1(10), F1(15), F1(20))\n",
    "print (F2(0), F2(1), F2(10), F2(15), F2(20))\n",
    "\n",
    "print (\"Number of Entries passing F1:\", len(where(data,F1)))\n",
    "print (\"Number of Entries passing F2:\", len(where(data,F2)))"
   ]
  },
  {
   "cell_type": "code",
   "execution_count": 63,
   "metadata": {},
   "outputs": [],
   "source": [
    "### BEGIN SOLUTION\n",
    "def is_even():\n",
    "    def iseven(x):\n",
    "        return x % 2 == 0\n",
    "    return iseven\n",
    "\n",
    "def is_odd():\n",
    "    def isodd(x):\n",
    "        return x % 2 != 0\n",
    "    return isodd\n",
    "\n",
    "def greater_than(n):\n",
    "    def isgreater(x):\n",
    "        return x > n\n",
    "    return isgreater\n",
    "\n",
    "def less_than(n):\n",
    "    def isless(x):\n",
    "        return x < n\n",
    "    return isless\n",
    "\n",
    "def equal_to(n):\n",
    "    def isequal(x):\n",
    "        return x == n\n",
    "    return isequal\n",
    "\n",
    "def divisible_by(n):\n",
    "    def isdivisible(x):\n",
    "        return x % n == 0\n",
    "    return isdivisible\n",
    "    \n",
    "### END SOLUTION"
   ]
  },
  {
   "cell_type": "code",
   "execution_count": 64,
   "metadata": {},
   "outputs": [
    {
     "name": "stdout",
     "output_type": "stream",
     "text": [
      "True False False True True True\n"
     ]
    }
   ],
   "source": [
    "A1=is_even()\n",
    "A2=is_odd()\n",
    "A3=greater_than(10)\n",
    "A4=less_than(10)\n",
    "A5=equal_to(10)\n",
    "A6=divisible_by(2)\n",
    "print(A1(10),A2(10),A3(5),A4(9),A5(10),A6(10))\n"
   ]
  },
  {
   "cell_type": "markdown",
   "metadata": {},
   "source": [
    "*Exercise 7:* Repeat the previous exercise using `lambda` and the built-in python functions sum and map instead of your solution above. "
   ]
  },
  {
   "cell_type": "code",
   "execution_count": 65,
   "metadata": {},
   "outputs": [],
   "source": [
    "### BEGIN SOLUTION\n",
    "\n",
    "def is_even():\n",
    "    return lambda x: x % 2 == 0\n",
    "\n",
    "def is_odd():\n",
    "    return lambda x: x % 2 != 0\n",
    "\n",
    "def greater_than(n):\n",
    "    return lambda x: x > n\n",
    "\n",
    "def less_than(n):\n",
    "    return lambda x: x < n\n",
    "\n",
    "def equal_to(n):\n",
    "    return lambda x: x == n\n",
    "\n",
    "def divisible_by(n):\n",
    "    return lambda x: x % n == 0    \n",
    "### END SOLUTION"
   ]
  },
  {
   "cell_type": "markdown",
   "metadata": {},
   "source": [
    "## Monte Carlo\n",
    "\n",
    "*Exercise 7:* Write a \"generator\" function called `generate_function(func,x_min,x_max,N)`, that instead of generating a flat distribution, generates a distribution with functional form coded in `func`. Note that `func` will always be > 0.  \n",
    "\n",
    "Use the test function below and your histogramming functions above to demonstrate that your generator is working properly.\n",
    "\n",
    "Hint: A simple, but slow, solution is to a draw random number `test_x` within the specified range and another number `p` between the `min` and `max` of the function (which you will have to determine). If `p<=function(test_x)`, then place `test_x` on the output. If not, repeat the process, drawing two new numbers. Repeat until you have the specified number of generated numbers, `N`. For this problem, it's OK to determine the `min` and `max` by numerically sampling the function.  "
   ]
  },
  {
   "cell_type": "code",
   "execution_count": 71,
   "metadata": {},
   "outputs": [],
   "source": [
    "import numpy as np\n",
    "\n",
    "def uniform_generator(seed=3877437):\n",
    "    a = 1111111\n",
    "    b = 2222222\n",
    "    m = 6700417  # Large prime number\n",
    "    x = seed  # Seed value\n",
    "    \n",
    "    while True:\n",
    "        x = (a*x+b) %m\n",
    "        yield x / m\n",
    "\n",
    "def generate_function(func,x_min,x_max,N=1000):\n",
    "    out = list()\n",
    "    ### BEGIN SOLUTION\n",
    "    i=0\n",
    "    \n",
    "    sample_x = np.linspace(x_min, x_max, 1000)\n",
    "    max_y = max(func(x) for x in sample_x)\n",
    "    rand_gen = uniform_generator()\n",
    "    \n",
    "    while i<N:\n",
    "        p = next(rand_gen) * max_y  \n",
    "        test_x = next(rand_gen) * (x_max - x_min) + x_min\n",
    "    \n",
    "        if p <= func(test_x): \n",
    "            out.append(test_x)\n",
    "            i += 1\n",
    "    ### END SOLUTION\n",
    "    \n",
    "    return out"
   ]
  },
  {
   "cell_type": "code",
   "execution_count": 72,
   "metadata": {},
   "outputs": [
    {
     "name": "stdout",
     "output_type": "stream",
     "text": [
      "[8.23911855038276, 9.22523926495918, 5.712499684721115, 6.142801261473726, 8.241593023240195, 6.7885774870429705, 5.575923110457155, 7.301976876961538, 7.1313098871309055, 1.9008533349491532, 6.969818445628086, 3.0281772015085027, 5.2265150064540755, 2.0583480102805543, 8.905033821029347, 7.917393798027794, 7.351021585671459, 5.994692569134131, 1.995678776410483, 9.995422672947072, 7.7500445121549895, 5.068142773800496, 5.348874555120973, 9.13795813006862, 9.77204702334198, 2.362321628638934, 9.65035758222212, 3.3849729054176776, 6.4345189262101155, 6.215086314777125, 7.487198184829392, 1.8151079253724058, 4.794673227054376, 7.058830816052195, 9.508157477362976, 3.229684062947127, 1.0951840758567712, 6.371031832794884, 8.545406950045049, 8.283417285819674, 6.267590509665294, 2.5865166302336107, 0.30990310006078725, 9.395948043233727, 7.596021262557241, 8.277356469007826, 5.3340799535312495, 7.563799387411261, 8.209520392536763, 5.070330697328242, 2.495701386943529, 5.0826851522823135, 5.893722733973124, 3.3162801658463943, 4.570824472566409, 9.877149437117122, 7.7425166224729, 9.00564546952824, 7.582065414734636, 4.557038763408307, 5.204014914295633, 4.002710577565546, 8.406681255808406, 7.604389398450873, 9.5176031581318, 5.5401402629119945, 9.14077138781064, 6.120984708862149, 7.253032162028124, 8.286958856441323, 5.90586824670763, 8.899669975764194, 8.209739781867308, 6.263895217267821, 8.119081245241901, 3.206091501469237, 7.912409033646712, 8.055065826500051, 0.6209255334406799, 8.41947747431242, 8.761136806858438, 9.142493668677636, 3.141523878289963, 8.464622425738577, 6.099654693133278, 3.5893706317084444, 7.52387202169656, 7.865862676905034, 6.687464377217119, 3.739016541806279, 5.738299571504281, 3.7832764736881304, 9.522989390063334, 4.805494941583486, 2.699540939019168, 8.948234117369113, 6.073302601912687, 7.861042081410754, 6.48973489261937, 6.182331636971251, 0.6493715241902108, 7.915578985606419, 3.260038890116839, 4.1179243023232734, 2.898804656486305, 5.3493849711144845, 9.362972483652882, 5.951068418577529, 7.588257566655926, 9.396515172115407, 9.750415533839163, 7.399572295276547, 7.783961804168308, 4.033692231393957, 5.420929771982848, 3.9145563626860835, 4.59996594241821, 8.282189004057509, 8.845340521343672, 6.637652552072505, 4.223317742761383, 4.1572964787116975, 0.5978926386223424, 8.683234192737556, 8.450787465914434, 9.835274431427178, 8.367722486525839, 9.833774524779578, 9.272719891911205, 2.9414199146112847, 6.640470287147799, 2.9003090404671825, 7.114269156680846, 7.577732848567484, 7.6927331537723695, 9.763353534563596, 3.3656323181079624, 4.04066493174977, 7.98102118121902, 4.325417358352473, 7.99264135351576, 9.516528598145458, 1.100537474010946, 2.5956280034511288, 2.7703290705638173, 8.56638474888951, 8.253913151972482, 7.10409516303239, 8.603921218634602, 5.369703109522885, 1.195756920800601, 1.443314647431645, 7.3706696165328225, 8.533991242634599, 5.898009034363085, 8.244000336098484, 9.18544024946507, 8.336960222027972, 7.100768504408009, 3.450844925024816, 9.122021808493411, 7.261197325479892, 8.095515547763668, 9.276683824305263, 7.216976197153102, 6.3047031251935515, 6.747369604011213, 1.4991440084997696, 7.320042916731899, 9.295245355624882, 2.522783283488177, 6.7726292259123575, 9.63318551666262, 5.7444738140924665, 3.0878779634163065, 8.777756667980515, 9.765177301651525, 6.292382996461265, 9.910139921142221, 9.08164969433992, 6.804640666394345, 8.296844808315662, 5.962224440657947, 8.96169148875361, 9.558821488274535, 9.028009749243965, 7.682818845453947, 6.1391089539651045, 8.290037769291075, 6.722071178555006, 7.997817150783302, 1.4861373553317652, 8.792978108675923, 9.976961135403961, 7.9922682424093905, 6.126112747908078, 8.68902935444167, 9.910726451801432, 8.12564650826956, 9.665305905587667, 6.8185935293280995, 0.2697070943495009, 8.24426599120622, 6.1519708400238375, 9.964452958674064, 8.789158943391136, 7.37628568490588, 6.366530620407655, 4.990098377459194, 4.758870977731685, 3.2126627342745984, 8.424412988027463, 0.973558809847208, 7.155744187264763, 9.145963601966862, 6.017401603512139, 5.9499490852584245, 7.4170100159437835, 9.623639842117289, 8.46341802308722, 1.4076317936629914, 6.853716716437201, 3.045022421738826, 1.4970098129713418, 9.59271042384377, 6.3289568395519264, 6.5084844719365975, 3.9610445140951676, 8.079840403962917, 9.083836125423238, 8.066454669910843, 5.038599836398242, 5.614011784639672, 3.595071769413755, 6.480135490074722, 4.357248213058979, 6.467634775566954, 7.164755566705773, 1.8177301502279632, 6.039413666343453, 2.3709225858629397, 6.032693189095545, 4.590415790539604, 5.101104901381511, 5.246580921754571, 9.145583028638367, 4.559177436270011, 9.641928256107045, 8.265475118936628, 4.7242149257277575, 4.5177904599071965, 5.291734827847282, 1.691348463834415, 4.882640886380654, 8.587075998404279, 6.008678265845245, 4.682026506708463, 6.356689441866081, 2.217821666920133, 3.7889925358376946, 9.464160215700009, 5.431847002955189, 9.485560376316878, 2.440454079201339, 7.99944988498477, 4.584837033277182, 7.607607108632194, 2.0102644357806385, 7.175362369237615, 9.024135363515436, 8.18913360168479, 4.330020056960634, 2.3907019518337442, 4.11137993351757, 5.759756445009319, 5.959311189139422, 8.771019773843927, 5.985475232362404, 4.638845612146229, 6.496147926315631, 4.260334841846411, 8.058373083346902, 1.6128697661653, 0.4976869350071794, 6.2401041606813425, 1.621361774946246, 3.4382143678520305, 2.385041110127922, 3.9139981884709565, 9.406422018211702, 7.5717750104209935, 9.46467063169352, 6.298670664825786, 5.464937480756795, 9.3747613021697, 9.474647622677812, 6.3736480878727395, 5.748664598039197, 9.969028793282567, 1.9120272663626756, 2.291236500653616, 7.134799222197663, 9.393946675259167, 1.8098306418839305, 9.457529285117626, 8.518750400161663, 4.206302383866556, 5.50867207220088, 5.6679099226212335, 3.7609838313048276, 3.75242317008031, 6.362721902233846, 8.234065133558104, 3.705446989344096, 5.89580469394666, 6.597286407696715, 4.493578533992736, 9.152575130771712, 4.095570469718527, 7.301056038751021, 7.56376356874505, 4.755563720884835, 7.380530196851928, 3.335901332708099, 9.67677683344186, 5.720711113950072, 8.128409022901112, 8.200112022878576, 8.415515034362787, 6.918921613386152, 9.554096409223487, 6.365557546642247, 4.0012255953621985, 6.008169342296159, 8.744787078177373, 2.574471111275612, 9.321879518841886, 7.3721978796245065, 8.821134565206911, 7.9349240502494105, 4.419523441600725, 4.222837175656381, 7.327631996635433, 9.254850854805007, 5.010010570983866, 3.5085234247361026, 7.27500392885995, 9.231367241770176, 8.470028059447642, 5.872238996468429, 2.8747583919030713, 5.487300268028095, 4.982725701997353, 8.02979874237678, 6.361262291585733, 4.170758327429472, 5.217808085675861, 9.058000419973862, 9.702424490893627, 9.710723974343686, 6.647728044388879, 6.605723196033918, 3.580974139370729, 7.625953727954544, 5.828941691241008, 9.83734146695646, 5.685095420180565, 9.508129120918893, 4.572012458329086, 4.376851470587576, 5.267757215707619, 9.221354432119673, 5.084828302477293, 4.96827137773664, 7.092970482284908, 3.115282227956857, 1.3576722165202555, 8.87739822760285, 8.583877690000488, 7.820095376153454, 2.4452418409182592, 6.717535639945992, 6.383922075297702, 6.864019060306247, 7.461184878493383, 9.957441454763188, 6.219272621390579, 4.723003060854272, 6.610207991532468, 3.210788224076203, 9.790963756434861, 4.256405235674138, 6.387274105477316, 4.936989742578708, 9.7748662508617, 8.380303793032583, 2.158596994784056, 5.455526126209756, 6.657473706487224, 5.465767279857358, 8.515046153097636, 5.34625382270984, 8.110602668460784, 7.652207317843054, 8.033298524554516, 9.392299016613443, 2.4377542472356573, 9.149530544143744, 6.836889405539983, 7.877657465199554, 6.271733535390409, 2.8631024009401207, 8.115397892399832, 2.1904666530456236, 9.45128639008587, 4.848938506364604, 9.866000877258834, 6.909717708614255, 9.974406070547548, 3.658145455723129, 7.929454241430048, 8.542823528744554, 0.9924994220508963, 6.866814408715159, 9.756098762211368, 7.842386526092331, 6.968942380750333, 1.6868069554476983, 9.956053481447498, 5.606925658507523, 6.4042939417054185, 3.3521928560565706, 3.917886006199316, 8.55306617483658, 8.882487463093714, 7.841344799883351, 9.243675430947059, 9.513066127078359, 8.233994988670108, 0.5736747429301788, 4.949105406424705, 5.180799941257388, 6.70508865343754, 9.27964931137868, 4.149814854806798, 9.757628517747477, 1.7430915120655923, 8.20706532145686, 6.843236771681523, 8.627070524118125, 9.978647597604747, 7.772243130539486, 4.115548330797919, 8.437482323861335, 4.933045211962181, 2.376270014239412, 3.424133154697685, 8.430746922169172, 9.837332512289906, 4.003725439774868, 8.716290344317375, 6.5636914836793, 3.2205353786189725, 9.962187428036195, 7.797386341775445, 6.865457776732403, 9.623687600338904, 9.038047930449702, 5.007321186129162, 6.698323402856867, 9.004629114874492, 8.015416055448489, 2.4675120966351796, 5.098993092519466, 1.282018716148562, 7.987516299358681, 0.5457764792847968, 4.749040246301089, 7.3958202899909065, 4.275142875435962, 4.653958104398576, 5.100379573390731, 8.28080401563067, 9.616059716880308, 9.22694065160422, 5.089533979750812, 8.528196080930485, 9.953628259256103, 6.466025920476293, 8.134628038822061, 7.015397698382055, 7.016346893036657, 9.245921559807398, 6.051921843073349, 7.631223549220891, 2.969082372037442, 7.385653758564579, 8.693091788167811, 6.0255742291860335, 9.452074400742521, 8.10378518232522, 4.852423364098085, 7.532484918475969, 1.7302221637847315, 8.464841815069121, 8.745458678168836, 8.677219641702896, 9.66259413406658, 8.252826652430738, 9.78911760268055, 5.68487603085002, 2.7299733732990052, 7.904097610641249, 4.130162346612158, 2.433290345959065, 9.78072260278726, 7.996270978358511, 9.034727241603022, 6.074350297899369, 2.2359011386903234, 7.221793807758532, 7.803884444803958, 8.924762443889687, 5.5890222951795385, 8.11857978391494, 6.303933023870006, 6.426582106755445, 8.277507205894798, 7.258345264182812, 4.6560803603716, 4.292717900990342, 9.527008542901136, 1.5524824798217782, 8.56566240578758, 9.290068065912912, 7.0773729455942815, 7.7823380246333915, 5.315415443546275, 7.25749158597144, 7.698808895028474, 7.880815477603856, 3.589663150815837, 1.3026159416645264, 3.8580867429594305, 4.553934479003321, 5.199804728571371, 4.8868033138833, 9.538963022749181, 0.7559783219462312, 7.431462847760072, 3.35478821691247, 7.901618660450536, 9.226927219604391, 8.124079441622813, 2.8777850691979316, 5.536971803396714, 4.976346994522879, 9.156836059606439, 6.7496814004262715, 8.888590068349478, 3.6949864463659496, 8.442105916691453, 9.747078428103803, 4.899678631941863, 3.7354331827407163, 9.576745745824477, 1.6830489803843551, 6.965370961240174, 4.43374643697549, 7.669864427840834, 9.65432151461618, 9.544868625340781, 9.619480399503495, 8.395504339506033, 6.284138733454948, 9.758240419961922, 3.303373506454897, 9.598110087775133, 9.818260564976777, 6.2992288390409135, 6.480219066962549, 6.716701363512152, 6.402952234166919, 5.402263769553447, 3.9490527231364854, 7.378160195104275, 6.760583706954359, 5.956541212285743, 8.518877257937827, 1.3590437729472657, 7.611345681918006, 7.380776450182131, 9.57357579386477, 7.642152719748636, 3.46837219235758, 9.134565803889519, 6.325027233379654, 0.5071326157760032, 8.79688980551509, 5.625702101824409, 8.623581189051368, 7.554519367973665, 2.354620615403489, 5.708589480326374, 1.0768299943122943, 1.1686048793679558, 9.915972393956974, 9.794893362607134, 8.764264970374231, 4.786828939154085, 7.883816783343485, 9.44071839110909, 6.11268522541209, 9.335762236887645, 3.4948212924658275, 2.941409467500306, 9.978528202050708, 7.276357575953854, 6.731795946431394, 6.419215401071306, 6.452252150873595, 2.18469089311904, 6.174269452184841, 5.557042196030486, 6.719256428368563, 2.8205199765925015, 7.870231061738396, 5.188896452265583, 8.623060325946877, 3.2580808030306176, 6.332953605723345, 6.4121785256051975, 1.1304057642979535, 9.738123761550959, 7.620695846243599, 5.8592383130781265, 0.2279037259919793, 5.629007866226833, 5.066654806708298, 9.920582554787261, 2.0868716081402097, 8.534938944844777, 8.720418445598238, 7.930721326747276, 6.456675756150699, 7.34793819548843, 3.8820180893219036, 6.3762016602847265, 5.923008970934197, 9.015423965403945, 8.619388912660211, 3.8963888366947907, 9.882938629043537, 7.2210356459903915, 9.228057000034475, 6.293302342227357, 7.0268537017919925, 8.720031902492039, 2.7392921962916637, 6.163138801659658, 6.583117140321266, 7.339146205377963, 7.984220982067235, 8.481942243296201, 2.934997926248471, 6.117622231571557, 3.842769785820793, 6.93157754211417, 8.51444768288302, 8.426224815559987, 7.837418178599929, 7.42216491898937, 2.7321448799380694, 4.279942576708286, 5.868267601852243, 8.182444465769818, 7.834633277301995, 4.51610101281756, 9.524363931379195, 7.01203969842474, 3.237298514405895, 7.486790747501237, 5.081807594960135, 9.78464325429298, 9.27171249192401, 1.651074851013004, 4.062708335914019, 8.488889572096781, 4.0645410576685, 5.249798631935892, 7.233858728494063, 6.949868940992777, 8.51877427927247, 2.727998869324103, 2.3420318466746175, 4.706013073514678, 6.631111168155654, 5.438736126423176, 9.686198635099876, 9.194575501793397, 7.694476328861323, 1.3267293662469068, 6.774209724558934, 7.774528062954888, 9.292469408993501, 6.5944507632883145, 8.726418072188642, 6.857517972388882, 6.786579103957261, 6.973594330024534, 5.158511776207362, 5.865939388548504, 3.629551712975476, 8.962315330523458, 0.02759678987143636, 8.912384109824806, 4.708586047704195, 6.91405176722583, 8.502388731925192, 8.729786519256935, 5.082222494510416, 8.077842020877208, 6.299749702145404, 7.613239593893932, 7.938267125762471, 9.226636192941424, 3.4795550784376554, 8.043117316429708, 5.75027942290756, 9.84274859310995, 9.89984951682858, 8.115053137737547, 3.972255756619327, 3.155055871895734, 8.557767374776823, 3.548868674889936, 2.687450646728405, 5.073434981733227, 9.03853297488798, 8.495001132019096, 6.686964408334585, 6.1868089702476725, 5.1252213108527425, 6.014691324435479, 3.721968349134091, 8.023418542457879, 8.385151252526521, 9.006879721068106, 6.981019241041267, 2.627787195931238, 5.059092590804423, 7.400027490826318, 2.8590981725465743, 7.212545129653871, 1.6757539120326392, 7.918374334015331, 8.934669289985981, 2.4113439506824723, 5.736784740412425, 6.453586396189968, 0.8475338176713478, 6.700779966381197, 6.927127072837407, 6.916121787643963, 7.90175596533768, 4.451912470522357, 5.738056303062928, 4.772725339333358, 9.726097644370492, 8.02582884020502, 4.287237645060001, 8.957678305693511, 2.186095283323411, 3.193350503408967, 8.936488579740635, 7.343011636439941, 9.112746266389092, 8.975459288578607, 4.665166362033885, 3.9505780013393195, 6.171894973103913, 8.857763628741315, 5.578828899753553, 7.4924187554297, 2.0538065018938374, 2.836892091939949, 8.641678570154664, 8.675057089730386, 9.746433692112, 6.417054341543221, 9.946421245125489, 3.679950068779301, 7.577235864573801, 4.376699241256178, 6.684467548810769, 7.7135035028416885, 5.844498931932147, 7.604120758454287, 9.076503745960885, 7.24402525992039, 8.997132566525337, 3.8920622403053424, 5.378324960968848, 9.937187491465084, 6.573938607104602, 5.4557992435396185, 3.5366962981557712, 8.320394088905212, 6.5663047538683035, 8.886437963487944, 2.939067822196738, 5.536780770510253, 9.00611409707784, 7.2217326175370875, 8.649275112280325, 5.550153072562499, 4.281649933131027, 9.782810532538498, 3.369038076286894, 5.137505620918818, 9.240742777651004, 8.864397544212547, 7.860422716974183, 6.861644581225318, 8.284578407582693, 9.979228158486254, 6.992434948451716, 6.1699980762391355, 8.175785178743354, 8.726340465078517, 8.952311475539506, 8.323767013306785, 3.215664040014226, 5.296918087336953, 5.654136153018536, 5.804485004440768, 4.402363315596626, 0.43214325317364577, 1.7775505614053575, 7.451170576398454, 0.4365534264509209, 9.852265911211198, 8.340579399759747, 9.987802251710603, 6.904191186906726, 6.349027232185698, 2.765644287512255, 0.8214294722253854, 5.974708738277036, 7.663112609259991, 2.328372995292681, 4.0648156674427876, 8.272056798852967, 1.844738916995763, 6.630738057049284, 5.0270020507678845, 3.9080612445464213, 3.027228006853902, 2.942655658595577, 7.30251714184356, 5.240632038274633, 3.130794695315232, 6.499367128941378, 8.712842797694531, 9.624865138990602, 7.02668654801634, 4.001125601585692, 6.723865096754426, 8.352141366723892, 8.66198476900766, 1.9519710489660569, 6.094435614977396, 9.803060018503325, 2.1736871003700218, 2.177504773210384, 5.668239752839264, 7.219374555344839, 9.00854379660251, 8.206484760575348, 7.573354016623145, 5.5028127353864695, 7.729363709751199, 7.108729202973486, 8.71288607858287, 9.43432475919036, 6.720633954573275, 8.13793529566891, 6.892159099948555, 6.210737331721294, 7.568511034462482, 9.495214999305267, 6.422939049912864, 8.220060035069459, 4.042797634833772, 1.7606381811758882, 9.362966513875183, 7.433556747289012, 8.39608937772082, 2.800310786627161, 1.632386461917221, 8.741270879110957, 9.023192138638535, 7.207846914602479, 6.18363752584354, 2.5158270000210434, 9.627402294513908, 8.407169285135538, 9.882099875276419, 6.39938081465676, 8.14920325108124, 2.975704347953269, 6.011991492469797, 6.788919256816404, 2.652537894283296, 3.230918314486994, 9.510679708442026, 7.895341439196994, 8.94639542583693, 4.165333291942875, 9.627450052735524, 2.8458228793819846, 3.5169154397405418, 7.623528505763149, 9.832374611908483, 9.751879621820553, 8.286058912452761, 7.577489580126132, 8.682182019417597, 0.8898147682450213, 4.953329024148795, 4.050109120074168, 4.599227182427601, 9.569165620587496, 8.403360566961728, 8.999029463390114, 3.644516453229702, 8.627334686781435, 9.558415543390806, 9.918699089922313, 9.371143616882353, 4.201645957259078, 6.195859153243745, 3.972288590396687, 6.2814702428222, 8.709986259064173, 6.5063174426308095, 7.06950925591646, 7.9259335650303555, 5.5125464579294094, 8.00744938710531, 6.082084144912176, 7.7124408824107515, 7.768471723476314, 8.197521139355953, 5.118557546493002, 7.854538008604539, 8.588005791281349, 7.9217308415282215, 8.361215428830773, 4.704922096639657, 6.0847183093231365, 5.64877678508666, 7.900459031131943, 4.266826975097222, 9.888369634307836, 2.423695420747694, 5.214973933711887, 8.386004930737892, 5.964151186411234, 8.318252431154658, 6.833635876692451, 2.572841361962994, 9.244381357160309, 8.727732915727485, 4.736666389569485, 5.253074547449808, 9.001709893578266, 3.601263921335045, 9.196724621766078, 7.433888069951467, 9.864496493277956, 4.439561000457136, 9.901729996804677, 5.575939527345835, 1.637038411191423, 8.515264049983756, 2.367954113900672, 8.658544684606944, 9.300189824006477, 5.453500879124389, 8.651734660693506, 0.6183197254738025, 9.140813176254554, 5.616101206835335, 7.655181759583023, 9.8568417458197, 6.9062835939912395, 9.913930729982924, 6.442537830108186, 6.09632355717562]\n"
     ]
    }
   ],
   "source": [
    "# A test function\n",
    "def test_func(x,a=1,b=1):\n",
    "    return abs(a*x+b)\n",
    "random_numbers = generate_function(test_func,0,10)\n",
    "print(random_numbers)"
   ]
  },
  {
   "cell_type": "code",
   "execution_count": 75,
   "metadata": {},
   "outputs": [
    {
     "name": "stdout",
     "output_type": "stream",
     "text": [
      "[  0.03,   0.53] : #\n",
      "[  0.53,   1.02] : ##\n",
      "[  1.02,   1.52] : ###\n",
      "[  1.52,   2.02] : ####\n",
      "[  2.02,   2.52] : ######\n",
      "[  2.52,   3.02] : ######\n",
      "[  3.02,   3.52] : #######\n",
      "[  3.52,   4.01] : ########\n",
      "[  4.01,   4.51] : ########\n",
      "[  4.51,   5.01] : #########\n",
      "[  5.01,   5.51] : ###########\n",
      "[  5.51,   6.01] : ###########\n",
      "[  6.01,   6.51] : #################\n",
      "[  6.51,   7.01] : #############\n",
      "[  7.01,   7.50] : #############\n",
      "[  7.50,   8.00] : #################\n",
      "[  8.00,   8.50] : ##################\n",
      "[  8.50,   9.00] : ################\n",
      "[  9.00,   9.50] : ###############\n",
      "[  9.50,  10.00] : ####################\n",
      "[8, 12, 16, 23, 30, 32, 34, 39, 39, 44, 52, 53, 81, 63, 62, 80, 86, 78, 74, 93]\n"
     ]
    }
   ],
   "source": [
    "h,b=draw_histogram(random_numbers,20)\n",
    "print(h)"
   ]
  },
  {
   "cell_type": "markdown",
   "metadata": {},
   "source": [
    "*Exercise 8:* Use your function to generate 1000 numbers that are normal distributed, using the `gaussian` function below. Confirm the mean and variance of the data is close to the mean and variance you specify when building the Gaussian. Histogram the data. "
   ]
  },
  {
   "cell_type": "code",
   "execution_count": 79,
   "metadata": {},
   "outputs": [
    {
     "name": "stdout",
     "output_type": "stream",
     "text": [
      "mean: -0.02\n",
      "Variance: 1.05\n"
     ]
    }
   ],
   "source": [
    "import math\n",
    "\n",
    "def gaussian(mean, sigma):\n",
    "    def f(x):\n",
    "        return math.exp(-((x-mean)**2)/(2*sigma**2))/math.sqrt(math.pi*sigma)\n",
    "    return f\n",
    "\n",
    "# Example Instantiation\n",
    "g1=gaussian(0,1)\n",
    "g2=gaussian(10,3)\n",
    "\n",
    "gauss = generate_function(g1, -5, 5, N=1000)\n",
    "\n",
    "mean1 = np.mean(gauss)\n",
    "variance1 = np.var(gauss)\n",
    "print (f\"mean: {mean1:.2f}\")\n",
    "print(f\"Variance: {variance1:.2f}\")\n"
   ]
  },
  {
   "cell_type": "code",
   "execution_count": 80,
   "metadata": {},
   "outputs": [
    {
     "name": "stdout",
     "output_type": "stream",
     "text": [
      "[ -3.38,  -3.06] : \n",
      "[ -3.06,  -2.75] : \n",
      "[ -2.75,  -2.43] : #\n",
      "[ -2.43,  -2.11] : ##\n",
      "[ -2.11,  -1.80] : ###\n",
      "[ -1.80,  -1.48] : #####\n",
      "[ -1.48,  -1.16] : #######\n",
      "[ -1.16,  -0.84] : #################\n",
      "[ -0.84,  -0.53] : #################\n",
      "[ -0.53,  -0.21] : ##################\n",
      "[ -0.21,   0.11] : ####################\n",
      "[  0.11,   0.42] : ###################\n",
      "[  0.42,   0.74] : ################\n",
      "[  0.74,   1.06] : ##############\n",
      "[  1.06,   1.37] : #########\n",
      "[  1.37,   1.69] : #######\n",
      "[  1.69,   2.01] : ###\n",
      "[  2.01,   2.32] : ##\n",
      "[  2.32,   2.64] : #\n",
      "[  2.64,   2.96] : \n",
      "[1, 2, 6, 13, 18, 32, 44, 106, 104, 108, 120, 118, 97, 85, 56, 43, 19, 14, 10, 3]\n"
     ]
    }
   ],
   "source": [
    "h,b=draw_histogram(gauss,20)\n",
    "print(h)"
   ]
  },
  {
   "cell_type": "markdown",
   "metadata": {},
   "source": [
    "*Exercise 9:* Combine your `generate_function`, `where`, and `in_range` functions above to create an integrate function. Use your integrate function to show that approximately 68% of Normal distribution is within one variance."
   ]
  },
  {
   "cell_type": "code",
   "execution_count": 82,
   "metadata": {},
   "outputs": [
    {
     "name": "stdout",
     "output_type": "stream",
     "text": [
      "Estimated probability in 1 SD: 0.68\n"
     ]
    }
   ],
   "source": [
    "def integrate(func, x_min, x_max, n_points=1000):\n",
    "    testpoints = generate_function(func, x_min, x_max, n_points)\n",
    "    total_area = (x_max - x_min)\n",
    "    density = len(testpoints) / n_points\n",
    "    integral = total_area * density\n",
    "    return integral\n",
    "\n",
    "mean = 0\n",
    "SD = 1\n",
    "g = gaussian(mean, SD)\n",
    "total_area = integrate(g, -5, 5, 10000)\n",
    "\n",
    "samples = generate_function(g, -5, 5, 10000)\n",
    "\n",
    "indices = where(samples, in_range(mean - SD, mean + SD))\n",
    "probability_1_SD = len(indices) / len(samples)\n",
    "\n",
    "# Print the results\n",
    "print(f\"Estimated probability in 1 SD: {probability_1_SD:.2f}\")\n"
   ]
  },
  {
   "cell_type": "code",
   "execution_count": null,
   "metadata": {},
   "outputs": [],
   "source": []
  }
 ],
 "metadata": {
  "kernelspec": {
   "display_name": "Python 3 (ipykernel)",
   "language": "python",
   "name": "python3"
  },
  "language_info": {
   "codemirror_mode": {
    "name": "ipython",
    "version": 3
   },
   "file_extension": ".py",
   "mimetype": "text/x-python",
   "name": "python",
   "nbconvert_exporter": "python",
   "pygments_lexer": "ipython3",
   "version": "3.12.3"
  }
 },
 "nbformat": 4,
 "nbformat_minor": 2
}
